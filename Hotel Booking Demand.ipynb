{
 "cells": [
  {
   "cell_type": "markdown",
   "metadata": {},
   "source": [
    "# 1. Import Needed Libraries"
   ]
  },
  {
   "cell_type": "code",
   "execution_count": null,
   "metadata": {},
   "outputs": [],
   "source": [
    "import numpy as np\n",
    "import pandas as pd\n",
    "import plotly.express as px"
   ]
  },
  {
   "cell_type": "markdown",
   "metadata": {},
   "source": [
    "# 2. Access the Dataset"
   ]
  },
  {
   "cell_type": "code",
   "execution_count": null,
   "metadata": {},
   "outputs": [],
   "source": [
    "df = pd.read_csv(r\"C:\\Users\\nicole.tonfack\\OneDrive - Danaher\\Desktop\\Data Analytics\\hotel_bookings.csv\")\n",
    "df.head()"
   ]
  },
  {
   "cell_type": "markdown",
   "metadata": {},
   "source": [
    "# 3. Data Wrangling Tasks"
   ]
  },
  {
   "cell_type": "code",
   "execution_count": null,
   "metadata": {},
   "outputs": [],
   "source": [
    "# DATA CLEANING\n",
    "#Handling missing values by removing rows with missing values\n",
    "df_cleaned = df.dropna()\n",
    "print(df_cleaned)"
   ]
  },
  {
   "cell_type": "code",
   "execution_count": null,
   "metadata": {},
   "outputs": [],
   "source": [
    "# Removing Exact Match - based on all columns\n",
    "df_cleaned = df.drop_duplicates()\n",
    "print(\"Duplicates Removed - Exact Match\")\n",
    "print(df_cleaned, '\\n')"
   ]
  },
  {
   "cell_type": "code",
   "execution_count": null,
   "metadata": {},
   "outputs": [],
   "source": [
    "#Remove Columns that are not needed\n",
    "df.drop(columns = \"arrival_date_week_number\")\n",
    "df.drop(columns = \"distribution_channel\")\n",
    "df"
   ]
  },
  {
   "cell_type": "code",
   "execution_count": null,
   "metadata": {},
   "outputs": [],
   "source": [
    "# DATA TRANSFORMATION AND PREPARATION\n",
    "\n",
    "# Combine the columns into a single arrival_date column\n",
    "df['Full arrival_date'] = df['arrival_date_year'].astype(str) + ', ' + df['arrival_date_month'].astype(str) + ', ' + df['arrival_date_day_of_month'].astype(str)\n",
    "\n",
    "# Drop the split columns (optional)\n",
    "df = df.drop(columns=['arrival_date_year', 'arrival_date_month', 'arrival_date_day_of_month'])\n",
    "\n",
    "# Display the result\n",
    "print(df)"
   ]
  },
  {
   "cell_type": "code",
   "execution_count": null,
   "metadata": {},
   "outputs": [],
   "source": [
    "# Aggregate number of cancelation by hotel type\n",
    "grouped_data = df.groupby('hotel')['is_canceled'].sum()\n",
    "\n",
    "# Print the aggregated data\n",
    "print(grouped_data)"
   ]
  },
  {
   "cell_type": "code",
   "execution_count": null,
   "metadata": {},
   "outputs": [],
   "source": [
    "# Aggregate number of adults by hotel type\n",
    "grouped_data = df.groupby('hotel')['adults'].sum()\n",
    "\n",
    "# Print the aggregated data\n",
    "print(grouped_data)"
   ]
  },
  {
   "cell_type": "code",
   "execution_count": null,
   "metadata": {},
   "outputs": [],
   "source": [
    "# Aggregate number of children by hotel type\n",
    "grouped_data = df.groupby('hotel')['children'].sum()\n",
    "\n",
    "# Print the aggregated data\n",
    "print(grouped_data)"
   ]
  },
  {
   "cell_type": "code",
   "execution_count": null,
   "metadata": {},
   "outputs": [],
   "source": [
    "# Aggregate number of babies by hotel type\n",
    "grouped_data = df.groupby('hotel')['babies'].sum()\n",
    "\n",
    "# Print the aggregated data\n",
    "print(grouped_data)"
   ]
  },
  {
   "cell_type": "code",
   "execution_count": null,
   "metadata": {},
   "outputs": [],
   "source": [
    "# Create new dataset with aggregated data\n",
    "#data = {'Hotel':['City Hotel', 'Resort Hotel'],\n",
    "        #'Adults':[146838, 74798],\n",
    "        #'Children':[7248, 5155],\n",
    "        #'Babies':[392, 557]\n",
    "#        }\n",
    "#df = pd.DataFrame(data)\n",
    "#df_cleaned = df.dropna()\n",
    "#print(df_cleaned)\n",
    "\n",
    "#fig0 = px.bar(df, x='Hotel', y='Adults', title='Population by Hotel Type')\n",
    "#fig0.show()\n"
   ]
  },
  {
   "cell_type": "markdown",
   "metadata": {},
   "source": [
    "# 5. Visualization Tasks"
   ]
  },
  {
   "cell_type": "code",
   "execution_count": null,
   "metadata": {},
   "outputs": [],
   "source": [
    "# EXPLORATORY DATA ANALYSIS/ ADVANCED VISULIAZATION\n",
    "\n",
    "#Code for Scatter Plot and Time-based Analysis and Visualization:\n",
    "fig1 = px.scatter(df, x='reservation_status_date', y='adr', title='adr by reservation_status_date')\n",
    "fig1.show()\n",
    "\n",
    "fig2 = px.scatter(df, x='reservation_status_date', y='lead_time', title='lead_time by reservation_status_date')\n",
    "fig2.show()\n",
    "\n",
    "fig3 = px.bar(df, x='reservation_status_date', y='adults', title='Adults by reservation_status_date')\n",
    "fig3.show()\n",
    "\n",
    "#Code for Histogram\n",
    "fig4 = px.histogram(df, x='country', title='Country Distribution')\n",
    "fig4.show()\n",
    "\n",
    "fig5 = px.histogram(df, x='meal', title='Meal Distribution')\n",
    "fig5.show()\n",
    "\n",
    "fig6 = px.histogram(df, x='market_segment', title='Market Segment Distribution')\n",
    "fig6.show()\n",
    "\n",
    "fig7 = px.histogram(df, x='deposit_type', title='DepositType Distribution')\n",
    "fig7.show()\n",
    "\n",
    "fig8 = px.histogram(df, x='customer_type', title='Customer Type Distribution')\n",
    "fig8.show()\n",
    "\n",
    "fig9 = px.histogram(df, x='reservation_status', title='Reservation Type Distribution')\n",
    "fig9.show()\n",
    "\n",
    "fig10 = px.histogram(df, x='hotel', title='Hotel Type Distribution')\n",
    "fig10.show()\n",
    "\n",
    "fig11 = px.histogram(df, x='assigned_room_type', title='Assigned Room Type Distribution')\n",
    "fig11.show()"
   ]
  }
 ],
 "metadata": {
  "kernelspec": {
   "display_name": "base",
   "language": "python",
   "name": "python3"
  },
  "language_info": {
   "codemirror_mode": {
    "name": "ipython",
    "version": 3
   },
   "file_extension": ".py",
   "mimetype": "text/x-python",
   "name": "python",
   "nbconvert_exporter": "python",
   "pygments_lexer": "ipython3",
   "version": "3.12.7"
  }
 },
 "nbformat": 4,
 "nbformat_minor": 2
}
