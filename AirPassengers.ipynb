{
 "cells": [
  {
   "cell_type": "code",
   "execution_count": null,
   "metadata": {},
   "outputs": [],
   "source": [
    "#Importing Packages: I could not get IT to install Anaconda on time, so I decided to use GitHub.\n",
    " \n",
    "import numpy as np\n",
    "import pandas as pd\n",
    "import plotly.offline as pyo\n",
    "import plotly.graph_objects as go\n",
    "import plotly.express as px\n"
   ]
  },
  {
   "cell_type": "code",
   "execution_count": null,
   "metadata": {},
   "outputs": [],
   "source": [
    "#Importing Data: \n",
    "df = pd.read_csv(r\"C:\\Users\\nicole.tonfack\\OneDrive - Danaher\\Desktop\\Data Analytics\\Python\\AirPassengers.csv\")\n",
    "df.head()"
   ]
  },
  {
   "cell_type": "code",
   "execution_count": null,
   "metadata": {},
   "outputs": [],
   "source": [
    "#Code for Line Plot\n",
    "fig1 = px.line(df, x='Month', y='#Passengers', title='Number of Passengers Over Time')\n",
    "fig1.show()\n"
   ]
  },
  {
   "cell_type": "code",
   "execution_count": null,
   "metadata": {},
   "outputs": [],
   "source": [
    "#Customized Line Plot\n",
    "fig1.update_layout(\n",
    "    title='Customized Number of Passengers Over Time',  \n",
    "    xaxis=dict(title='Year', showgrid=True, gridcolor='grey'), \n",
    "    yaxis=dict(title='#Passengers', showgrid=True, gridcolor='grey'),  \n",
    "    plot_bgcolor='rgba(0,0,0,0)',  \n",
    "    showlegend=True, \n",
    "    legend=dict(x=0, y=1.0), \n",
    ")\n",
    "fig1.show()\n"
   ]
  },
  {
   "cell_type": "code",
   "execution_count": null,
   "metadata": {},
   "outputs": [],
   "source": [
    "#Code for Scatter Plot\n",
    "fig2 = px.scatter(df, x='Month', y='#Passengers', title='Number of Passengers Scatter Plot')\n",
    "fig2.show()\n"
   ]
  },
  {
   "cell_type": "code",
   "execution_count": null,
   "metadata": {},
   "outputs": [],
   "source": [
    "#Customized Scatter Plot\n",
    "fig2.update_layout(\n",
    "    title = 'Air Passengers by Month',\n",
    "    width = 1000,\n",
    "    height = 500,\n",
    "    xaxis_title = 'Years',\n",
    "    yaxis_title = '#Passengers',\n",
    "    template = \"simple_white\",\n",
    ")\n",
    "fig2.show()"
   ]
  },
  {
   "cell_type": "code",
   "execution_count": null,
   "metadata": {},
   "outputs": [],
   "source": [
    "#Code for Histogram\n",
    "fig3 = px.histogram(df, x='#Passengers', title='Passengers Distribution')\n",
    "fig3.show()\n"
   ]
  },
  {
   "cell_type": "code",
   "execution_count": null,
   "metadata": {},
   "outputs": [],
   "source": [
    "#Customized Histogram\n",
    "fig3.update_layout(\n",
    "    title = 'Air Passengers by Year',\n",
    "    width = 1000,\n",
    "    height = 500,\n",
    "    xaxis_title = 'Years',\n",
    "    yaxis_title = 'Number of Passengers',\n",
    "    template = \"simple_white\",\n",
    ")\n",
    "fig3.show()"
   ]
  },
  {
   "cell_type": "code",
   "execution_count": null,
   "metadata": {},
   "outputs": [],
   "source": [
    "#Using Graph Objects Line Plot\n",
    "fig4 = go.Figure()\n",
    "fig4.add_trace(go.Scatter(x=df['Month'], y=df['#Passengers'], mode='lines', name='Passengers'))\n",
    "fig4.update_layout(title='Number of Passengers Over Time')\n",
    "fig4.show()\n"
   ]
  },
  {
   "cell_type": "code",
   "execution_count": null,
   "metadata": {},
   "outputs": [],
   "source": [
    "#Using Graph Objects Scatter Plot\n",
    "fig5 = go.Figure()\n",
    "fig5.add_trace(go.Scatter(x=df['Month'], y=df['#Passengers'], mode='markers', name='Passengers'))\n",
    "fig5.update_layout(title='Number of Passengers Scatter Plot')\n",
    "fig5.show()\n"
   ]
  },
  {
   "cell_type": "code",
   "execution_count": null,
   "metadata": {},
   "outputs": [],
   "source": [
    "#Using Graph Objects Histogram\n",
    "fig6 = go.Figure()\n",
    "fig6.add_trace(go.Histogram(x=df['#Passengers'], name='Passengers'))\n",
    "fig6.update_layout(title='Passengers Distribution')\n",
    "fig6.show()"
   ]
  },
  {
   "cell_type": "markdown",
   "metadata": {},
   "source": [
    "# I prefer using Plotly Express because it is much simpler and easier to use and understand than Graph Objects."
   ]
  },
  {
   "cell_type": "markdown",
   "metadata": {},
   "source": []
  }
 ],
 "metadata": {
  "kernelspec": {
   "display_name": "base",
   "language": "python",
   "name": "python3"
  },
  "language_info": {
   "name": "python",
   "version": "3.12.7"
  }
 },
 "nbformat": 4,
 "nbformat_minor": 2
}
